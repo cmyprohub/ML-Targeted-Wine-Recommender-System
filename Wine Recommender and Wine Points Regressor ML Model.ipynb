{
 "cells": [
  {
   "cell_type": "markdown",
   "metadata": {},
   "source": [
    "# **Wine Recommender and Wine Point Regressor **"
   ]
  },
  {
   "cell_type": "markdown",
   "metadata": {},
   "source": [
    "\n",
    "### ****\n",
    "Dec2019\n",
    "\n",
    "\n",
   ]
  },
  {
   "cell_type": "markdown",
   "metadata": {},
   "source": [
    "## **Project Description and Summary**\n",
    " \n",
    "The **goal** of this project is to analyze the Wine Review dataset from Kaggle.\n",
    "* Original dataset location - https://www.kaggle.com/zynicide/wine-reviews .\n",
    "* The winemag-data-130k-v2.csv file (50.46 MB) from this location that contains 14 columns is what will be used.\n",
    "\n",
    "* First goal is to predict the points rated by WineEnthusiast on a scale of 1-100 using 2 separate regression models.\n",
    "* Second goal is to suggest top 5 good wineries to a customer interested in purchasing a fruity pinot noir, with a price less than 20 dollars.\n",
    "\n",
    "**Approach** would be to use Python's ScikitLearn and NLTK packages do the necessary data pre-processing,cleansing, regression based predictions and text based nearest neighbor detection. \n",
    "* Duplicate rows and columns that are less relevant will be removed. Wine review text present in the 'description' field will be lemmatized , tokenized and encoded using tfidf vectorization. Encoding will be used to convert categorical variables as well, before splitting the dataset into test and train and then applying 2 various regression techniques to predict the points rated by WineEnthusiast on a scale of 1-100. \n",
    "* Filtering on Wine 'variety'  and 'price' columns along with text matching of the 'description' field  to a 'fruity' taste using cosine distance using 'NearestNeighbors'  from ScikitLearn package will be used to identify and suggest the best wineries that offer fruity pinot noir, with a price less than 20 dollars.\n",
    "\n",
    "**Result** of the above approach would be the following:\n",
    "* Predictions of wine points by 2 different regression models along with the corresponding metrics like RMSE values \n",
    "* 5 best wineries that offer fruity pinot noir priced less than $20\n"
   ]
  },
  {
   "cell_type": "markdown",
   "metadata": {},
   "source": [
    "## **Data Processing**\n",
    "Describe how you process the data so that it can be analyzed by a regression model. This includes, but not limited to, processing text data.\n",
    "\n",
    "* Wine data from CSV file is **loaded** into pandas dataframe using 'read_csv()' function as the initial step. Pandas was chosen to ease the data pre-processing steps expecially those related to the wine review field 'description'.\n",
    "\n",
    "* **Duplicate rows** from the dataframe are  removed using 'drop_duplicates()' function which removes rows that are exact duplicates with respect to all columns.\n",
    "\n",
    "* Columns 'taster_name','taster_twitter_handle' that do not seem to be much relevant to the usecases being considered . These are considered **irrelevent columns** and are removed using 'drop()' function.\n",
    "\n",
    "* Columns 'designation','region_2' are also dropped as large number of rows had **null values** in these columns (based on results from 'dataframe.isnull().sum()' function) and also due to the fact that there are other **correlated columns** like 'variety' and 'region_1' respectively that hold almost the same information held in these fields.\n",
    "\n",
    "* Categorical variables 'country', 'province', 'region_1', 'variety','winery' are **encoded to create dummy variables** by leveraging the pandas inbuilt function and combined with the 'price' variable.\n",
    "\n",
    "* Review text in the 'description' field is cleaned by **removing stopwords, special characters, numbers and punctuations**.\n",
    "\n",
    "* Review text in the 'description' field is also cleaned by performing **pos tagging, tokenization and also word lemmatization** using 'WordNetLemmatizer' from NLTK package in python.\n",
    "\n",
    "* Cleaned up 'description' text is **converted in to a text vector** using NLTK's 'TfidfVectorizer' which performs the **tf-idf transformation** which considers term frequency and inverse document frequency  while performing the vectorization.\n",
    "\n",
    "* Encoded categorical variables along with 'price' and text vectors from tf-idf transformation are **combined to create an input vector array** and passed through ScikitLearn's 'Preprocessing.StandardScaler()' so that an array of scaled vectors can be created.\n",
    "\n",
    "* This cleaned, encoded, vectorized and scaled input array can be **split into Train data and Test data** ( 75 - 25 proportion) and will be fed to the Python's scikit learn **regression models** that will then perform the wine point predictions based on input data.\n",
    "\n"
   ]
  },
  {
   "cell_type": "markdown",
   "metadata": {},
   "source": [
    "## ** Descriptive statistics of Data**\n",
    "  \n",
    "* Below results from hidden code shows some of the statistics about the data during each and every step of data pre-processing, until the data is ready for the regression models.\n",
    "  \n",
    "* Examining the **duplicate rows, categorical variables and their distinct values** along with **variable importance** lead to dropping duplicate rows as well as columns 'taster_name','taster_twitter_handle' , 'region_2', 'designation'\n",
    "\n",
    "* Examining the **numerical variables** - points and price - indicate that points varies between 80 and 100 where as the variance in proce is very very huge ranging from a 4 dollars to thousands of dollars up to even 3300.\n",
    "\n",
    "* The above finding about points also lead to the decision to not encode 'price' variable into **dummy variables** as that would increase the size of the input vecor considerably.\n",
    "\n",
    "* The size of the **final vector** useed as input to the test-train split function is also displayed below \n",
    "\n",
    "* For all the details mentioned above as well as data processing refer the **hidden code** where as output for these  steps is displayed below\n"
   ]
  },
  {
   "cell_type": "code",
   "execution_count": 7,
   "metadata": {},
   "outputs": [
    {
     "data": {
      "text/html": [
       "<style id=hide>div.input{display:none;}</style><button type=\"button\"onclick=\"var myStyle = document.getElementById('hide').sheet;myStyle.insertRule('div.input{display:inherit !important;}', 0);\">Hidden Code Here</button>"
      ],
      "text/plain": [
       "<IPython.core.display.HTML object>"
      ]
     },
     "metadata": {},
     "output_type": "display_data"
    },
    {
     "name": "stdout",
     "output_type": "stream",
     "text": [
      "Total number of rows in the original dataset:  129971\n",
      "Total number of columns in the original dataset:  13\n",
      "\n",
      "No: of exact duplicate rows dropped from dataset:  9983\n",
      "No: of rows remaining after removing duplicate rows :  119988\n",
      "\n",
      "Columns remaining after removing less important columns are:  9\n",
      "Index(['country', 'description', 'points', 'price', 'province', 'region_1',\n",
      "       'title', 'variety', 'winery'],\n",
      "      dtype='object')\n",
      "\n",
      "Inspecting all the numeric variables: \n",
      "              points          price\n",
      "count  119988.000000  111593.000000\n",
      "mean       88.442236      35.620747\n",
      "std         3.092915      42.103728\n",
      "min        80.000000       4.000000\n",
      "25%        86.000000      17.000000\n",
      "50%        88.000000      25.000000\n",
      "75%        91.000000      42.000000\n",
      "max       100.000000    3300.000000\n",
      "\n",
      " Shape of encoded Dataframe:  (93580, 15533)\n"
     ]
    }
   ],
   "source": [
    "#To hide code cell\n",
    "\n",
    "from IPython.core.display import display, HTML\n",
    "display(HTML(r\"\"\"<style id=hide>div.input{display:none;}</style><button type=\"button\"onclick=\"var myStyle = document.getElementById('hide').sheet;myStyle.insertRule('div.input{display:inherit !important;}', 0);\">Hidden Code Here</button>\"\"\"))\n",
    "\n",
    "#################################################\n",
    "#QUESTION 1 - REGRESSION MODELS\n",
    "#Processing Data - Except Text field Description\n",
    "#################################################\n",
    "\n",
    "#import necessary libraries\n",
    "import pandas as pd\n",
    "\n",
    "#load records from winemag-data-130k-v2.csv file\n",
    "#wineRvwsOrigDF = pd.read_csv(\"./wine-reviews/winemag-data-130k-v2.csv\", index_col=0) \n",
    "wineRvwsOrigDF = pd.read_csv(\"s3://uiucbackup/winemag-data-130k-v2.csv\", index_col=0) \n",
    "print(\"Total number of rows in the original dataset: \", len(wineRvwsOrigDF))\n",
    "print(\"Total number of columns in the original dataset: \", len(wineRvwsOrigDF.columns))\n",
    "\n",
    "\n",
    "#wineRvwsOrigDF = wineRvwsOrigDF[0:1000]\n",
    "\n",
    "#identify and drop all duplicate rows\n",
    "wineRvwsNoDupDF = wineRvwsOrigDF.drop_duplicates()\n",
    "wineRvwsNoDupDF = wineRvwsNoDupDF.reset_index(drop = True)\n",
    "dupRows = len(wineRvwsOrigDF) - len(wineRvwsNoDupDF) #count of duplicate rows\n",
    "print(\"\\nNo: of exact duplicate rows dropped from dataset: \", dupRows)\n",
    "print(\"No: of rows remaining after removing duplicate rows : \", len(wineRvwsNoDupDF))\n",
    "#wineRvwsNoDupDF.head()\n",
    "\n",
    "#Removing less important columns\n",
    "#checking which columns have most missing values\n",
    "#print(wineRvwsNoDupDF.isnull().sum()) #returns region_2 and designation\n",
    "#removing those 2 fields and taster related fields\n",
    "wineRvwsNoDupDF.drop(['taster_name','taster_twitter_handle','region_2','designation'],axis = 1,inplace = True)\n",
    "print(\"\\nColumns remaining after removing less important columns are: \", len(wineRvwsNoDupDF.columns))\n",
    "print(wineRvwsNoDupDF.columns)\n",
    "\n",
    "#inspecting the numeric variables \n",
    "print(\"\\nInspecting all the numeric variables: \" )\n",
    "print(wineRvwsNoDupDF.describe())\n",
    "\n",
    "#drop rows were the below columns are not populated\n",
    "wineRvwsNoDupDF.dropna(axis=0, subset=['region_1','province','country','variety','price'],inplace = True)\n",
    "wineRvwsNoDupDF = wineRvwsNoDupDF.reset_index(drop = True)#rest index after dropping rows\n",
    "\n",
    "#Encoding all variables except the one to be predicted \n",
    "#and the text field - description\n",
    "encoded= wineRvwsNoDupDF.drop(['description', 'points', 'price','title'], axis = 1)\n",
    "dummyVars = pd.get_dummies(encoded, prefix = ['country', 'province', 'region_1', 'variety','winery']) \n",
    "encodedWineDF = pd.concat([wineRvwsNoDupDF['price'], dummyVars], axis = 1)\n",
    "\n",
    "print(\"\\n Shape of encoded Dataframe: \", encodedWineDF.shape )\n",
    "\n",
    "import warnings\n",
    "warnings.filterwarnings('ignore')"
   ]
  },
  {
   "cell_type": "code",
   "execution_count": 8,
   "metadata": {},
   "outputs": [
    {
     "data": {
      "text/html": [
       "<style id=hide>div.input{display:none;}</style><button type=\"button\"onclick=\"var myStyle = document.getElementById('hide').sheet;myStyle.insertRule('div.input{display:inherit !important;}', 0);\">Hidden Code Here</button>"
      ],
      "text/plain": [
       "<IPython.core.display.HTML object>"
      ]
     },
     "metadata": {},
     "output_type": "display_data"
    },
    {
     "name": "stdout",
     "output_type": "stream",
     "text": [
      "[nltk_data] Downloading package stopwords to\n",
      "[nltk_data]     /home/ec2-user/nltk_data...\n",
      "[nltk_data]   Package stopwords is already up-to-date!\n",
      "[nltk_data] Downloading package punkt to /home/ec2-user/nltk_data...\n",
      "[nltk_data]   Package punkt is already up-to-date!\n",
      "[nltk_data] Downloading package averaged_perceptron_tagger to\n",
      "[nltk_data]     /home/ec2-user/nltk_data...\n",
      "[nltk_data]   Package averaged_perceptron_tagger is already up-to-\n",
      "[nltk_data]       date!\n",
      "[nltk_data] Downloading package wordnet to /home/ec2-user/nltk_data...\n",
      "[nltk_data]   Package wordnet is already up-to-date!\n",
      "\n",
      " Shape of text vector post all text processing and TF-IDF of description field : (93580, 35928)\n",
      "\n",
      " Shape of predictor X (Vectorized wine review text field + encoded other fields) : (93580, 51461)\n",
      "\n",
      " Shape of predicted y variable(points)  : (93580,)\n"
     ]
    }
   ],
   "source": [
    "#To hide code cell\n",
    "\n",
    "from IPython.core.display import display, HTML\n",
    "display(HTML(r\"\"\"<style id=hide>div.input{display:none;}</style><button type=\"button\"onclick=\"var myStyle = document.getElementById('hide').sheet;myStyle.insertRule('div.input{display:inherit !important;}', 0);\">Hidden Code Here</button>\"\"\"))\n",
    "\n",
    "\n",
    "#################################################\n",
    "#QUESTION 1 - REGRESSION MODELS\n",
    "#Processing Data -  Text field 'Description'\n",
    "#vectorization\n",
    "#################################################\n",
    "import nltk\n",
    "nltk.download('stopwords')\n",
    "nltk.download('punkt')\n",
    "nltk.download('averaged_perceptron_tagger')\n",
    "nltk.download('wordnet')\n",
    "from nltk.corpus import stopwords\n",
    "import numpy as np\n",
    "from nltk.tokenize import RegexpTokenizer\n",
    "from nltk.stem import WordNetLemmatizer\n",
    "from nltk.corpus import wordnet\n",
    "\n",
    "#lemmatization function\n",
    "\n",
    "def lemmatize(sentence):\n",
    "    tagged = nltk.pos_tag(nltk.word_tokenize(sentence))\n",
    "    lemmatized_sentence = []\n",
    "    for word, tag in tagged:      \n",
    "        lemmatized_sentence.append(lemmatizer.lemmatize(word))\n",
    "    return ' '.join(lemmatized_sentence)\n",
    "#extracting the description text field alone that has reviews\n",
    "wineDesDF = pd.DataFrame({'description': wineRvwsNoDupDF['description']})\n",
    "\n",
    "#text processing\n",
    "# convert to Lowercase, tokenize, remove stopwords,\n",
    "#special characters, punctuations, numbers\n",
    "stop_words = stopwords.words('english')\n",
    "tokenizer = RegexpTokenizer(r'\\w+')\n",
    "lemmatizer = WordNetLemmatizer()\n",
    "\n",
    "wineDesDF['processed'] = wineDesDF['description'].str.replace('[0-9]+', '')\n",
    "wineDesDF['processed'] = wineDesDF['processed'].apply(lambda x: x.lower())\n",
    "wineDesDF['processed'] = wineDesDF['processed'].str.replace('[^\\w\\s]', '')\n",
    "wineDesDF['processed'] = wineDesDF['processed'].apply(lambda x: ' '.join(w for w in x.split() if w not in stop_words))\n",
    "wineDesDF['processed'] = wineDesDF['processed'].apply(lambda x: lemmatize(x))\n",
    "\n",
    "#tf-idf vectorization after text processing \n",
    "#to ceate text vectors\n",
    "\n",
    "from sklearn.feature_extraction.text import TfidfVectorizer \n",
    "tfidfVectorizer=TfidfVectorizer(use_idf=True)\n",
    "\n",
    "descText = wineDesDF['processed']\n",
    "fittedVec=tfidfVectorizer.fit(descText)\n",
    "descVec=fittedVec.transform(descText)\n",
    "\n",
    "print('\\n Shape of text vector post all text processing and TF-IDF of description field :',descVec.shape)\n",
    "\n",
    "descDF = pd.DataFrame(descVec.toarray())\n",
    "X = pd.concat([encodedWineDF, descDF], axis = 1)\n",
    "y = wineRvwsNoDupDF['points'].values\n",
    "\n",
    "\n",
    "print('\\n Shape of predictor X (Vectorized wine review text field + encoded other fields) :',X.shape)\n",
    "print('\\n Shape of predicted y variable(points)  :',y.shape)\n",
    "\n",
    "import warnings\n",
    "warnings.filterwarnings('ignore')\n"
   ]
  },
  {
   "cell_type": "markdown",
   "metadata": {},
   "source": [
    " Shape of text vector post all text processing and TF-IDF of description field : (93580, 35928)\n",
    "\n",
    " Shape of predictor X (Vectorized wine review text field + encoded other fields) : (93580, 51461)\n",
    "\n",
    " Shape of predicted y variable(points)  : (93580,)"
   ]
  },
  {
   "cell_type": "markdown",
   "metadata": {},
   "source": [
    "## **Regression Model Analysis**\n",
    " \n",
    "* **Models Used** - Two significantly different regression models have been chosen to perform regression analysis and predict the wine review points on the chosen wine data set - **Random forest regression model** and **Ridge regression model**\n",
    "\n",
    "* **Data Processing** - Both the models were trained on Train data which is a 75% of the total data and predictions were done on the remaining 25% of data. Data was pre-processed to vectorize the text review field 'description' and encode the other categorical variables as needed. (details part of the hideen code)\n",
    "\n",
    "* **Technology** -  Random Forest and Ridge Regression libraries from Python's ScikitLearn Machine Learning package have been used to perform the training and predictions, as shown in the code below. NLTK library was used to do the text field processing, TF_IDF and vectorization (details in the hidden code)\n",
    "\n",
    "* **Tuning** - Random forest model was tuned by defining the parameters maximum tree depth, number of trees or iterators to be used (details in code below). Ridge Regression model was tuned by going over a set of regularization parameters or alpha values and choosing the best among those for further predictions (details in code below).\n",
    "\n",
    "* **Validation** - To evaluate the models, matrics provided by ScikitLearn's 'metrics' library has been used. Considering that we are building regression models, matrices used for model evaluation are Root Mean Squared Error, R Squared values ,  Variance Score,Mean Absolute Error, Mean Squared Error. Results of these validations are displayed below\n",
    "\n",
    "* **Comaprison of two models** - Based on the RMSE values , other model parameters and also the regression plots (see below) of both the regression models, Random forest regressor seems to be doing slightly better and have better regression results while predicting the 'points' related to wine review entries in the dataset.\n",
    "\n",
    "* **Interpretation of results** - Although ridge regression was used along with tuning of regularization parameter, the Random forest seems to have performed better. Considering the fact that the same preprocessed data was used by both the models, the performace improvement in randomforest might be due to the fact that there was more tuning option available there. The flexibility to set the tree depth , maximum number of individual predictor trees to be used and above all the bootstrapping option seems wher samples are drawn with replacement seems  to have helped in increasing the prediction accuracy and especially RMSE. The fact that random forest uses an ensemble model that fits a numberof defined trees on various sub-samples of the dataset and uses averaging to  predict contributes to improving predictive accuracy and reduces over-fitting. "
   ]
  },
  {
   "cell_type": "code",
   "execution_count": 9,
   "metadata": {},
   "outputs": [],
   "source": [
    "#To hide code cell\n",
    "\n",
    "from IPython.core.display import display, HTML\n",
    "display(HTML(r\"\"\"<style id=hide>div.input{display:none;}</style><button type=\"button\"onclick=\"var myStyle = document.getElementById('hide').sheet;myStyle.insertRule('div.input{display:inherit !important;}', 0);\">Hidden Code Here</button>\"\"\"))\n",
    "\n",
    "#################################################\n",
    "#QUESTION 1 - REGRESSION MODELS\n",
    "#Test Train Split\n",
    "#################################################\n",
    "from sklearn.model_selection import train_test_split\n",
    "from sklearn import preprocessing\n",
    "\n",
    "#scaling the X variable\n",
    "scaler = preprocessing.StandardScaler()\n",
    "scaled_df = scaler.fit_transform(X)\n",
    "X = pd.DataFrame(scaled_df)\n",
    "\n",
    "#test train split - 25% as test data\n",
    "X_train, X_test, y_train, y_test = train_test_split(X, y, test_size = 0.25, random_state = 0)\n",
    "\n",
    "import warnings\n",
    "warnings.filterwarnings('ignore')"
   ]
  },
  {
   "cell_type": "code",
   "execution_count": 10,
   "metadata": {},
   "outputs": [
    {
     "name": "stdout",
     "output_type": "stream",
     "text": [
      "\n",
      " Random Forest Regression - Prediction Metrics\n",
      "Explained Variance Score: 0.6347529842165074\n",
      "Mean Absolute Error: 1.462358782799907\n",
      "Mean Squared Error: 3.5480576744716594\n",
      "R Squared: 0.634708478113786\n",
      "Root Mean Squared Error: 1.8836288579419407\n"
     ]
    }
   ],
   "source": [
    "#################################################\n",
    "#QUESTION 1 - REGRESSION MODELS\n",
    "# Random Forest Regression Model\n",
    "#################################################\n",
    "\n",
    "from sklearn.ensemble import RandomForestRegressor\n",
    "from sklearn import metrics\n",
    "\n",
    "# fit the random forest model on train data\n",
    "rfModel = RandomForestRegressor(random_state=1000,n_estimators=70,max_depth = 50)\n",
    "rfModel.fit(X_train, y_train)\n",
    "\n",
    "# predict on test data using random forest model\n",
    "y_pred_rf = rfModel.predict(X_test)\n",
    "\n",
    "# prediction metrics values - random forest\n",
    "print('\\n Random Forest Regression - Prediction Metrics') \n",
    "print('Explained Variance Score:', metrics.explained_variance_score(y_test, y_pred_rf))  \n",
    "print('Mean Absolute Error:', metrics.mean_absolute_error(y_test, y_pred_rf))  \n",
    "print('Mean Squared Error:', metrics.mean_squared_error(y_test, y_pred_rf))  \n",
    "print('R Squared:', metrics.r2_score(y_test, y_pred_rf))\n",
    "print('Root Mean Squared Error:', np.sqrt(metrics.mean_squared_error(y_test, y_pred_rf)))\n",
    "\n",
    "import warnings\n",
    "warnings.filterwarnings('ignore')"
   ]
  },
  {
   "cell_type": "code",
   "execution_count": 14,
   "metadata": {},
   "outputs": [
    {
     "data": {
      "text/html": [
       "<style id=hide>div.input{display:none;}</style><button type=\"button\"onclick=\"var myStyle = document.getElementById('hide').sheet;myStyle.insertRule('div.input{display:inherit !important;}', 0);\">Hidden Code Here</button>"
      ],
      "text/plain": [
       "<IPython.core.display.HTML object>"
      ]
     },
     "metadata": {},
     "output_type": "display_data"
    },
    {
     "data": {
      "text/plain": [
       "(80, 100)"
      ]
     },
     "execution_count": 14,
     "metadata": {},
     "output_type": "execute_result"
    },
    {
     "data": {
      "image/png": "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\n",
      "text/plain": [
       "<Figure size 432x288 with 1 Axes>"
      ]
     },
     "metadata": {},
     "output_type": "display_data"
    }
   ],
   "source": [
    "#To hide code cell\n",
    "\n",
    "from IPython.core.display import display, HTML\n",
    "display(HTML(r\"\"\"<style id=hide>div.input{display:none;}</style><button type=\"button\"onclick=\"var myStyle = document.getElementById('hide').sheet;myStyle.insertRule('div.input{display:inherit !important;}', 0);\">Hidden Code Here</button>\"\"\"))\n",
    "\n",
    "#################################################\n",
    "#QUESTION 1 - REGRESSION MODELS\n",
    "# Random Forest Regression Model\n",
    "#################################################\n",
    "#plot random forest regression results\n",
    "import matplotlib.pyplot as plt\n",
    "fig = plt.figure()\n",
    "ax0 = fig.add_subplot(111)\n",
    "ax0.scatter(y_test, y_pred_rf)\n",
    "ax0.plot([80, 100], [80, 100], '--k')\n",
    "ax0.set_ylabel('Predicted Points')\n",
    "ax0.set_xlabel('Actual Points')\n",
    "ax0.set_title('Wine Review Dataset - Random Forest regression')\n",
    "ax0.text(83, 97, r'$R^2$=%.2f, RMSE=%.2f, MAE=%.2f' % (\n",
    "    metrics.r2_score(y_test, y_pred_rf), np.sqrt(metrics.mean_squared_error(y_test, y_pred_rf)), \\\n",
    "    metrics.median_absolute_error(y_test, y_pred_rf)))\n",
    "ax0.set_xlim([80, 100])\n",
    "ax0.set_ylim([80, 100])"
   ]
  },
  {
   "cell_type": "code",
   "execution_count": null,
   "metadata": {},
   "outputs": [],
   "source": [
    "#################################################\n",
    "#QUESTION 1 - REGRESSION MODELS\n",
    "# Ridge Regression Model\n",
    "#################################################\n",
    "\n",
    "from sklearn.linear_model import Ridge\n",
    "from sklearn import metrics\n",
    "\n",
    "# fit the ridge regression model on train data using cross validation\n",
    "rrModel = Ridge(alpha=0.000001)\n",
    "rrModel.fit(X_train, y_train)\n",
    "\n",
    "print ('\\n Ideal ridge regression regularization parameter selected by CV is: .0001')\n",
    "\n",
    "# predict on test data using ridge regression model\n",
    "y_pred_rr = rrModel.predict(X_test)\n",
    "\n",
    "coeffUsed = np.sum(rrModel.coef_!=0)\n",
    "print (\"\\n Number of features used by chosen ridge model:\", coeffUsed)\n",
    "\n",
    "# prediction metrics values - ridge regression\n",
    "print('\\n Ridge Regression - Prediction Metrics, alpha = .0001') \n",
    "print('Explained Variance Score:', metrics.explained_variance_score(y_test, y_pred_rr))  \n",
    "print('Mean Absolute Error:', metrics.mean_absolute_error(y_test, y_pred_rr))  \n",
    "print('Mean Squared Error:', metrics.mean_squared_error(y_test, y_pred_rr))  \n",
    "print('R Squared:', metrics.r2_score(y_test, y_pred_rr))\n",
    "print('Root Mean Squared Error:', np.sqrt(metrics.mean_squared_error(y_test, y_pred_rr)))\n",
    "\n",
    "import warnings\n",
    "warnings.filterwarnings('ignore')\n"
   ]
  },
  {
   "cell_type": "raw",
   "metadata": {},
   "source": [
    "training score for alpha=0.0001: 0.9264137924687055\n",
    "test score for alpha =0.0001:  0.5941652219758184\n",
    "number of features used: for alpha =0.0001: 42276\n",
    "Mean Absolute Error: 1.4982960603756292\n",
    "Mean Squared Error: 3.9418522261371476\n",
    "Root Mean Squared Error: 1.985409838329897"
   ]
  },
  {
   "cell_type": "markdown",
   "metadata": {},
   "source": [
    "## **Best Wineries for Fruity Pinot Noir Priced Less than 20**\n",
    " \n",
    "* The **goal** of this execercise is to suggest 5 different wineries to a customer who is interested in purchasing a fruity pinot noir, with a price less than 20 dollars. \n",
    "\n",
    "**Steps Followed**\n",
    "* To achieve this only those records from the dataset with 'variety' = 'pinot noir' and 'price' < $20 were filtered out\n",
    "\n",
    "* The wine review text field 'description' of the records identified above was subjected to text analytics using NLTK package. After cleanup (stop word, punctuation removal, pos tagging , lemmatization etc) each review was matched to a query string ' fruity fruit' post TF_IDF vectorization and based on how good the match is , a score was assigned. This was done using ScikitLearn's TF-IDF vectorizer and Nearest Neighbor libraries and metrics used was cosine distance.\n",
    "\n",
    "* Most matching reviews were segregated and the related wineries and associated points were extracted \n",
    "\n",
    "* Wineries were grouped and total points for each winery were calculated\n",
    "\n",
    "* Wineries with top 5 summed up points were assumed as those that offer fruity pinor noir proces less than $20 and were returned as suggestions to the customer\n",
    "\n",
    "**Additional Assumptions for targeted recommendation** \n",
    "* It was assumed that all the wines were priced using the same dollar scale and the user was not particular about the country from which the wine came. It was also assumed that the user gave more preference to wineries that had multiple options for fruity pinot noir and was not looking for wineries that sold only the top rated fruits pinot noirs. This means in this exercise a winery A that sells 2 different kinds of fruity pinot noirs with points 90 and 91 would be considered as a better suggestion than a winery B that would offer only a single variety with point 95.\n",
    "\n"
   ]
  },
  {
   "cell_type": "code",
   "execution_count": 23,
   "metadata": {},
   "outputs": [
    {
     "data": {
      "text/html": [
       "<style id=hide>div.input{display:none;}</style><button type=\"button\"onclick=\"var myStyle = document.getElementById('hide').sheet;myStyle.insertRule('div.input{display:inherit !important;}', 0);\">Hidden Code Here</button>"
      ],
      "text/plain": [
       "<IPython.core.display.HTML object>"
      ]
     },
     "metadata": {},
     "output_type": "display_data"
    },
    {
     "name": "stdout",
     "output_type": "stream",
     "text": [
      "\n",
      " Total number of wine reviews that will be analyzed:  129971\n",
      "\n",
      " Most common words occuring in the wine reviews : \n",
      " wine       82810\n",
      "flavor     68673\n",
      "fruit      58524\n",
      "aroma      41018\n",
      "finish     38551\n",
      "palate     38270\n",
      "acidity    34958\n",
      "tannin     32812\n",
      "cherry     31634\n",
      "drink      30548\n",
      "dtype: int64\n",
      "\n",
      " Subset of wine reviews for pinot noir < $20 to be analyzed for fruity flavour: 1356\n"
     ]
    }
   ],
   "source": [
    "#To hide code cell\n",
    "\n",
    "from IPython.core.display import display, HTML\n",
    "display(HTML(r\"\"\"<style id=hide>div.input{display:none;}</style><button type=\"button\"onclick=\"var myStyle = document.getElementById('hide').sheet;myStyle.insertRule('div.input{display:inherit !important;}', 0);\">Hidden Code Here</button>\"\"\"))\n",
    "\n",
    "\n",
    "#####################################################\n",
    "#QUESTION 2 - Winery Recommendation\n",
    "# Recommend 5 good wineries for fruity pinot noir wine\n",
    "# having price < $20 \n",
    "#####################################################\n",
    "\n",
    "#Taking dataframe with no duplicate rows as the starting point\n",
    "wineRvwsNoDupDF = wineRvwsOrigDF\n",
    "wineRvwsNoDupDF.rename(columns={'Unnamed: 0':'index'}, inplace=True)\n",
    "\n",
    "#Filling the 'variety' field with a default if it is not poulated\n",
    "wineRvwsNoDupDF['variety'].fillna('Unknown Variety', inplace = True)\n",
    "\n",
    "#extracting the description text field alone that has reviews\n",
    "wineDesDF = pd.DataFrame({'description': wineRvwsNoDupDF['description']})\n",
    "\n",
    "print('\\n Total number of wine reviews that will be analyzed: ', len(wineDesDF))\n",
    "\n",
    "#text processing\n",
    "# convert to Lowercase, tokenize, remove stopwords,special characters, punctuations, numbers\n",
    "stop_words = stopwords.words('english')\n",
    "tokenizer = RegexpTokenizer(r'\\w+')\n",
    "lemmatizer = WordNetLemmatizer()\n",
    "\n",
    "wineDesDF['processed'] = wineDesDF['description'].str.replace('[0-9]+', '')\n",
    "wineDesDF['processed'] = wineDesDF['processed'].apply(lambda x: x.lower())\n",
    "wineDesDF['processed'] = wineDesDF['processed'].str.replace('[^\\w\\s]', '')\n",
    "wineDesDF['processed'] = wineDesDF['processed'].apply(lambda x: ' '.join(w for w in x.split() if w not in stop_words))\n",
    "wineDesDF['processed'] = wineDesDF['processed'].apply(lambda x: lemmatize(x))\n",
    "\n",
    "#most common words in all these wine reviews\n",
    "print('\\n Most common words occuring in the wine reviews : \\n',pd.Series(' '.join(wineDesDF['processed']).split()).value_counts()[:10])\n",
    "\n",
    "#subset of reviews to be analyzed (variety = pinot noir, price < $20, country = France)\n",
    "pnDesc = wineDesDF['processed'][wineRvwsNoDupDF['variety'].isin(['Pinot Noir']) & (wineRvwsNoDupDF[\"price\"] < 20)]\n",
    "                                #& (wineRvwsNoDupDF[\"country\"].isin(['France'])]\n",
    "print('\\n Subset of wine reviews for pinot noir < $20 to be analyzed for fruity flavour:', len(pnDesc))\n",
    "\n",
    "#keeping track of index\n",
    "pnDescDF = pnDesc.to_frame()\n",
    "pnDescDF['orig_index'] = pnDesc.index\n",
    "pnDescDF[\"processed\"] = pnDescDF['processed'].astype(str)+' '+pnDescDF['orig_index'].astype(str)\n",
    "\n",
    "#storing reviews into rvwTextArrX\n",
    "rvwTextArrX = np.ravel( [np.array(pnDescDF)[:,[0]]])\n",
    "leng = len(rvwTextArrX)"
   ]
  },
  {
   "cell_type": "code",
   "execution_count": 24,
   "metadata": {},
   "outputs": [
    {
     "name": "stdout",
     "output_type": "stream",
     "text": [
      "\n",
      "Around top 249 reviews from those identified, can be good matches to the search text(fruit flavour)\n",
      " based on Nearest Neighbor Algorithm (metric = Cosine Distance)\n"
     ]
    }
   ],
   "source": [
    "\n",
    "#####################################################\n",
    "#QUESTION 2 - Winery Recommendation\n",
    "# Recommend 5 good wineries for fruity pinot noir wine\n",
    "# having price < $20 \n",
    "#####################################################\n",
    "# what needs to be matched in the reviews? \n",
    "#having both fruit and fruity in the query text seems to return better results\n",
    "queryToMatch = \"fruity fruit\"\n",
    "\n",
    "#identifying reviews that mention fruity taste using nearest neighbors  and cosine distance\n",
    "#using tf-idf to fit, transform and identify nearest neighbors to query string\n",
    "from sklearn.feature_extraction.text import TfidfVectorizer \n",
    "from sklearn.neighbors import NearestNeighbors\n",
    "vectorizer = TfidfVectorizer(stop_words = stop_words,max_df = 1.0, min_df = 1)\n",
    "vctrizedTFIDFRvwArr = vectorizer.fit_transform(rvwTextArrX)\n",
    "queryTFIDF = vectorizer.fit(rvwTextArrX)\n",
    "queryTFIDFVctr = queryTFIDF.transform([queryToMatch])\n",
    "neigh = NearestNeighbors(n_neighbors=leng,metric = 'cosine')\n",
    "neigh.fit(vctrizedTFIDFRvwArr)\n",
    "allNieghbors = neigh.kneighbors(queryTFIDFVctr, return_distance=True) \n",
    "\n",
    "#Find number of most matching reviews based on cosine distance\n",
    "#Threshold > 0.9\n",
    "for i,j in zip(np.arange(leng),allNieghbors[0][0]):\n",
    "    if j > .95:\n",
    "        break\n",
    "identifiedNumofRws = i\n",
    "\n",
    "#prints 'i' most matching reviews based on cosine distance\n",
    "print(\"\\nAround top {} reviews from those identified, can be good matches to the search text(fruit flavour)\\n based on Nearest Neighbor Algorithm (metric = Cosine Distance)\".format(i))  \n"
   ]
  },
  {
   "cell_type": "code",
   "execution_count": 26,
   "metadata": {},
   "outputs": [
    {
     "data": {
      "text/html": [
       "<style id=hide>div.input{display:none;}</style><button type=\"button\"onclick=\"var myStyle = document.getElementById('hide').sheet;myStyle.insertRule('div.input{display:inherit !important;}', 0);\">Hidden Code Here</button>"
      ],
      "text/plain": [
       "<IPython.core.display.HTML object>"
      ]
     },
     "metadata": {},
     "output_type": "display_data"
    }
   ],
   "source": [
    "#To hide code cell\n",
    "\n",
    "from IPython.core.display import display, HTML\n",
    "display(HTML(r\"\"\"<style id=hide>div.input{display:none;}</style><button type=\"button\"onclick=\"var myStyle = document.getElementById('hide').sheet;myStyle.insertRule('div.input{display:inherit !important;}', 0);\">Hidden Code Here</button>\"\"\"))\n",
    "\n",
    "#Identifying the related wineries and associated points from most matched reviews\n",
    "topMatchedRvwIndices = allNieghbors[1][0][:identifiedNumofRws:1]\n",
    "topMatchedRvwCosineDist = allNieghbors[0][0][:identifiedNumofRws:1]\n",
    "len(topMatchedRvwIndices)\n",
    "\n",
    "trackArr = (np.zeros((identifiedNumofRws, 2)) ).astype(int)\n",
    "len(trackArr)\n",
    "    \n",
    "for i in range(identifiedNumofRws):\n",
    "    rvwTxt = rvwTextArrX[topMatchedRvwIndices[i]]\n",
    "\n",
    "    word_list = rvwTxt.split() \n",
    "    rvw_origindex = int(word_list[-1])\n",
    "    trackArr[i][0] = rvw_origindex\n",
    "    \n",
    "\n",
    "    points = wineRvwsNoDupDF.iloc[rvw_origindex]['points']\n",
    "    trackArr[i][1] = points\n",
    "    \n",
    "#index of most matching reviews to the terms 'fruit', 'fruity'\n",
    "sortedtrackArr = sorted(trackArr, key=lambda trackArr : trackArr[1],reverse=True)\n",
    "indxList = list()\n",
    "for i in range(len(sortedtrackArr)):\n",
    "    indxList.append(sortedtrackArr[i][0])\n",
    "#len(indxList)\n",
    "\n"
   ]
  },
  {
   "cell_type": "code",
   "execution_count": 28,
   "metadata": {},
   "outputs": [
    {
     "name": "stdout",
     "output_type": "stream",
     "text": [
      "\n",
      " Grouping reviews by winery name ,sum the total points for each winery and sort to find top 5 wineries\n",
      "              winery  points\n",
      "0     Nuiton-Beaunoy     432\n",
      "1  Vignerons de Buxy     426\n",
      "2         Eola Hills     347\n",
      "3            McManis     341\n",
      "4              Willm     266\n",
      "\n",
      "Top 5 wineries for fruity pinot noirs priced < $20 are:\n",
      "Nuiton-Beaunoy\n",
      "Vignerons de Buxy\n",
      "Eola Hills\n",
      "McManis\n",
      "Willm\n"
     ]
    }
   ],
   "source": [
    "#####################################################\n",
    "#QUESTION 2 - Winery Recommendation\n",
    "# Recommend 5 good wineries for fruity pinot noir wine\n",
    "# having price < $20 \n",
    "#####################################################\n",
    "#Filtering out only the rows for those wineries identifeid above\n",
    "#using nearest neighbor logic\n",
    "finalWineriesAllCols = wineRvwsNoDupDF[wineRvwsNoDupDF.index.isin(indxList)]\n",
    "\n",
    "#grouping by winery name ,sum the total points for each winery and sort \n",
    "topWineriesDF = finalWineriesAllCols.groupby(['winery'])['points'].sum() .sort_values(ascending = False).reset_index()\n",
    "\n",
    "#Total points of top 5 wineries identified\n",
    "print('\\n Grouping reviews by winery name ,sum the total points for each winery and sort to find top 5 wineries')\n",
    "Q = topWineriesDF[0:5]\n",
    "print(topWineriesDF[0:5])\n",
    "\n",
    "#Listing the top 5 wineries for fruity pinot noir, price < $20\n",
    "print('\\nTop 5 wineries for fruity pinot noirs priced < $20 are:')\n",
    "for i in range(len(Q)):\n",
    "    print(topWineriesDF.iloc[i,0])"
   ]
  },
  {
   "cell_type": "markdown",
   "metadata": {},
   "source": [
    "**Cross checking the findings** - The the details available in the below URLs indicate that the top two wineries identifeid by this code offer  fruity Pinor Noirs among their top specialties and these are offered at these wineries at affordable prices (around 20).https://www.vivino.com/wineries/buxy, https://www.vivino.com/wineries/nuiton-beaunoy"
   ]
  }
 ],
 "metadata": {
  "kernelspec": {
   "display_name": "Python 3",
   "language": "python",
   "name": "python3"
  },
  "language_info": {
   "codemirror_mode": {
    "name": "ipython",
    "version": 3
   },
   "file_extension": ".py",
   "mimetype": "text/x-python",
   "name": "python",
   "nbconvert_exporter": "python",
   "pygments_lexer": "ipython3",
   "version": "3.6.8"
  }
 },
 "nbformat": 4,
 "nbformat_minor": 2
}
